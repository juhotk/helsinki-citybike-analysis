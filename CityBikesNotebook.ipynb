{
 "cells": [
  {
   "cell_type": "code",
   "execution_count": 1,
   "id": "3e1ff4ec-9038-4f9d-8958-645cf560468b",
   "metadata": {},
   "outputs": [],
   "source": [
    "# Data loaded from https://www.hsl.fi/hsl/avoin-data\n",
    "\n",
    "import pandas as pd\n",
    "import matplotlib.pyplot as plt\n",
    "import matplotlib.ticker as mticker\n",
    "import glob\n",
    "import gmaps\n",
    "import googlemaps\n",
    "import numpy as np\n",
    "\n",
    "googlemaps = googlemaps.Client(key='')\n",
    "gmaps.configure(api_key='')\n",
    "\n",
    "plt.style.use({'figure.facecolor':'white'})\n",
    "\n",
    "path = r'HSLdata/'\n",
    "all_files = glob.glob(path + '**/*.csv', recursive=True)"
   ]
  },
  {
   "cell_type": "code",
   "execution_count": 2,
   "id": "d3c11ab9-ba06-4b71-8bc8-b4dd8ccd8c49",
   "metadata": {},
   "outputs": [
    {
     "data": {
      "text/html": [
       "<div>\n",
       "<style scoped>\n",
       "    .dataframe tbody tr th:only-of-type {\n",
       "        vertical-align: middle;\n",
       "    }\n",
       "\n",
       "    .dataframe tbody tr th {\n",
       "        vertical-align: top;\n",
       "    }\n",
       "\n",
       "    .dataframe thead th {\n",
       "        text-align: right;\n",
       "    }\n",
       "</style>\n",
       "<table border=\"1\" class=\"dataframe\">\n",
       "  <thead>\n",
       "    <tr style=\"text-align: right;\">\n",
       "      <th></th>\n",
       "      <th>Departure</th>\n",
       "      <th>Return</th>\n",
       "      <th>Departure station id</th>\n",
       "      <th>Departure station name</th>\n",
       "      <th>Return station id</th>\n",
       "      <th>Return station name</th>\n",
       "      <th>Covered distance (m)</th>\n",
       "      <th>Duration (sec.)</th>\n",
       "    </tr>\n",
       "  </thead>\n",
       "  <tbody>\n",
       "    <tr>\n",
       "      <th>0</th>\n",
       "      <td>2016-05-31T23:58:00</td>\n",
       "      <td>2016-06-01T00:13:00</td>\n",
       "      <td>A27</td>\n",
       "      <td>Mannerheimintie</td>\n",
       "      <td>A35</td>\n",
       "      <td>Apollonkatu</td>\n",
       "      <td>2585.0</td>\n",
       "      <td>944.0</td>\n",
       "    </tr>\n",
       "    <tr>\n",
       "      <th>1</th>\n",
       "      <td>2016-05-31T23:58:00</td>\n",
       "      <td>2016-06-01T00:25:00</td>\n",
       "      <td>A01</td>\n",
       "      <td>Kaivopuisto</td>\n",
       "      <td>A12</td>\n",
       "      <td>Unioninkatu</td>\n",
       "      <td>2703.0</td>\n",
       "      <td>1627.0</td>\n",
       "    </tr>\n",
       "    <tr>\n",
       "      <th>2</th>\n",
       "      <td>2016-05-31T23:56:00</td>\n",
       "      <td>2016-06-01T00:08:00</td>\n",
       "      <td>A40</td>\n",
       "      <td>Lastenlehto</td>\n",
       "      <td>A06</td>\n",
       "      <td>Viiskulma</td>\n",
       "      <td>1194.0</td>\n",
       "      <td>705.0</td>\n",
       "    </tr>\n",
       "    <tr>\n",
       "      <th>3</th>\n",
       "      <td>2016-05-31T23:55:00</td>\n",
       "      <td>2016-06-01T00:06:00</td>\n",
       "      <td>B08</td>\n",
       "      <td>Sörnäisten metroasema</td>\n",
       "      <td>C02</td>\n",
       "      <td>Ooppera</td>\n",
       "      <td>2095.0</td>\n",
       "      <td>656.0</td>\n",
       "    </tr>\n",
       "    <tr>\n",
       "      <th>4</th>\n",
       "      <td>2016-05-31T23:55:00</td>\n",
       "      <td>2016-06-01T00:07:00</td>\n",
       "      <td>B08</td>\n",
       "      <td>Sörnäisten metroasema</td>\n",
       "      <td>C02</td>\n",
       "      <td>Ooppera</td>\n",
       "      <td>2111.0</td>\n",
       "      <td>715.0</td>\n",
       "    </tr>\n",
       "  </tbody>\n",
       "</table>\n",
       "</div>"
      ],
      "text/plain": [
       "             Departure               Return Departure station id  \\\n",
       "0  2016-05-31T23:58:00  2016-06-01T00:13:00                  A27   \n",
       "1  2016-05-31T23:58:00  2016-06-01T00:25:00                  A01   \n",
       "2  2016-05-31T23:56:00  2016-06-01T00:08:00                  A40   \n",
       "3  2016-05-31T23:55:00  2016-06-01T00:06:00                  B08   \n",
       "4  2016-05-31T23:55:00  2016-06-01T00:07:00                  B08   \n",
       "\n",
       "  Departure station name Return station id Return station name  \\\n",
       "0        Mannerheimintie               A35         Apollonkatu   \n",
       "1            Kaivopuisto               A12         Unioninkatu   \n",
       "2            Lastenlehto               A06           Viiskulma   \n",
       "3  Sörnäisten metroasema               C02             Ooppera   \n",
       "4  Sörnäisten metroasema               C02             Ooppera   \n",
       "\n",
       "   Covered distance (m)  Duration (sec.)  \n",
       "0                2585.0            944.0  \n",
       "1                2703.0           1627.0  \n",
       "2                1194.0            705.0  \n",
       "3                2095.0            656.0  \n",
       "4                2111.0            715.0  "
      ]
     },
     "execution_count": 2,
     "metadata": {},
     "output_type": "execute_result"
    }
   ],
   "source": [
    "df = pd.concat((pd.read_csv(file, dtype={'Return station id': object, 'Departure station id': object}) for file in all_files))\n",
    "df.head()"
   ]
  },
  {
   "cell_type": "code",
   "execution_count": 3,
   "id": "79512c9b-40dd-4577-a08b-24ddcd4191b2",
   "metadata": {},
   "outputs": [
    {
     "name": "stdout",
     "output_type": "stream",
     "text": [
      "<class 'pandas.core.frame.DataFrame'>\n",
      "Int64Index: 12160731 entries, 0 to 246742\n",
      "Data columns (total 8 columns):\n",
      " #   Column                  Dtype  \n",
      "---  ------                  -----  \n",
      " 0   Departure               object \n",
      " 1   Return                  object \n",
      " 2   Departure station id    object \n",
      " 3   Departure station name  object \n",
      " 4   Return station id       object \n",
      " 5   Return station name     object \n",
      " 6   Covered distance (m)    float64\n",
      " 7   Duration (sec.)         float64\n",
      "dtypes: float64(2), object(6)\n",
      "memory usage: 835.0+ MB\n",
      "<class 'pandas.core.frame.DataFrame'>\n",
      "RangeIndex: 12160731 entries, 0 to 12160730\n",
      "Data columns (total 8 columns):\n",
      " #   Column                  Dtype  \n",
      "---  ------                  -----  \n",
      " 0   Departure               object \n",
      " 1   Return                  object \n",
      " 2   Departure station id    object \n",
      " 3   Departure station name  object \n",
      " 4   Return station id       object \n",
      " 5   Return station name     object \n",
      " 6   Covered distance (m)    float64\n",
      " 7   Duration (sec.)         float64\n",
      "dtypes: float64(2), object(6)\n",
      "memory usage: 742.2+ MB\n"
     ]
    }
   ],
   "source": [
    "df.info()\n",
    "df_clean = df.reset_index(drop=True)\n",
    "df_clean.info()"
   ]
  },
  {
   "cell_type": "code",
   "execution_count": 4,
   "id": "1db91f28-5e20-4051-8af5-9586064b5159",
   "metadata": {},
   "outputs": [
    {
     "data": {
      "text/plain": [
       "Departure                   0\n",
       "Return                      0\n",
       "Departure station id      665\n",
       "Departure station name    665\n",
       "Return station id         360\n",
       "Return station name       360\n",
       "Covered distance (m)      136\n",
       "Duration (sec.)            24\n",
       "dtype: int64"
      ]
     },
     "execution_count": 4,
     "metadata": {},
     "output_type": "execute_result"
    }
   ],
   "source": [
    "df_clean.isnull().sum(axis=0)"
   ]
  },
  {
   "cell_type": "code",
   "execution_count": 5,
   "id": "7598a1fa-a460-472e-8f6b-8c977abe8491",
   "metadata": {},
   "outputs": [
    {
     "name": "stdout",
     "output_type": "stream",
     "text": [
      "<class 'pandas.core.frame.DataFrame'>\n",
      "RangeIndex: 12159565 entries, 0 to 12159564\n",
      "Data columns (total 8 columns):\n",
      " #   Column                  Dtype  \n",
      "---  ------                  -----  \n",
      " 0   Departure               object \n",
      " 1   Return                  object \n",
      " 2   Departure station id    object \n",
      " 3   Departure station name  object \n",
      " 4   Return station id       object \n",
      " 5   Return station name     object \n",
      " 6   Covered distance (m)    float64\n",
      " 7   Duration (sec.)         float64\n",
      "dtypes: float64(2), object(6)\n",
      "memory usage: 742.2+ MB\n"
     ]
    }
   ],
   "source": [
    "df_nonull = df_clean.dropna().reset_index(drop=True)\n",
    "df_nonull.info()"
   ]
  },
  {
   "cell_type": "code",
   "execution_count": 6,
   "id": "e245357c-3337-475f-a112-73ef903d1b0b",
   "metadata": {},
   "outputs": [
    {
     "data": {
      "text/html": [
       "<div>\n",
       "<style scoped>\n",
       "    .dataframe tbody tr th:only-of-type {\n",
       "        vertical-align: middle;\n",
       "    }\n",
       "\n",
       "    .dataframe tbody tr th {\n",
       "        vertical-align: top;\n",
       "    }\n",
       "\n",
       "    .dataframe thead th {\n",
       "        text-align: right;\n",
       "    }\n",
       "</style>\n",
       "<table border=\"1\" class=\"dataframe\">\n",
       "  <thead>\n",
       "    <tr style=\"text-align: right;\">\n",
       "      <th></th>\n",
       "      <th>Departure</th>\n",
       "      <th>Return</th>\n",
       "      <th>Departure station id</th>\n",
       "      <th>Departure station name</th>\n",
       "      <th>Return station id</th>\n",
       "      <th>Return station name</th>\n",
       "      <th>Covered distance (m)</th>\n",
       "      <th>Duration (sec.)</th>\n",
       "    </tr>\n",
       "  </thead>\n",
       "  <tbody>\n",
       "    <tr>\n",
       "      <th>0</th>\n",
       "      <td>2016-05-31 23:58:00</td>\n",
       "      <td>2016-06-01 00:13:00</td>\n",
       "      <td>A27</td>\n",
       "      <td>Mannerheimintie</td>\n",
       "      <td>A35</td>\n",
       "      <td>Apollonkatu</td>\n",
       "      <td>2585.0</td>\n",
       "      <td>944.0</td>\n",
       "    </tr>\n",
       "    <tr>\n",
       "      <th>1</th>\n",
       "      <td>2016-05-31 23:58:00</td>\n",
       "      <td>2016-06-01 00:25:00</td>\n",
       "      <td>A01</td>\n",
       "      <td>Kaivopuisto</td>\n",
       "      <td>A12</td>\n",
       "      <td>Unioninkatu</td>\n",
       "      <td>2703.0</td>\n",
       "      <td>1627.0</td>\n",
       "    </tr>\n",
       "    <tr>\n",
       "      <th>2</th>\n",
       "      <td>2016-05-31 23:56:00</td>\n",
       "      <td>2016-06-01 00:08:00</td>\n",
       "      <td>A40</td>\n",
       "      <td>Lastenlehto</td>\n",
       "      <td>A06</td>\n",
       "      <td>Viiskulma</td>\n",
       "      <td>1194.0</td>\n",
       "      <td>705.0</td>\n",
       "    </tr>\n",
       "    <tr>\n",
       "      <th>3</th>\n",
       "      <td>2016-05-31 23:55:00</td>\n",
       "      <td>2016-06-01 00:06:00</td>\n",
       "      <td>B08</td>\n",
       "      <td>Sörnäisten metroasema</td>\n",
       "      <td>C02</td>\n",
       "      <td>Ooppera</td>\n",
       "      <td>2095.0</td>\n",
       "      <td>656.0</td>\n",
       "    </tr>\n",
       "    <tr>\n",
       "      <th>4</th>\n",
       "      <td>2016-05-31 23:55:00</td>\n",
       "      <td>2016-06-01 00:07:00</td>\n",
       "      <td>B08</td>\n",
       "      <td>Sörnäisten metroasema</td>\n",
       "      <td>C02</td>\n",
       "      <td>Ooppera</td>\n",
       "      <td>2111.0</td>\n",
       "      <td>715.0</td>\n",
       "    </tr>\n",
       "  </tbody>\n",
       "</table>\n",
       "</div>"
      ],
      "text/plain": [
       "            Departure              Return Departure station id  \\\n",
       "0 2016-05-31 23:58:00 2016-06-01 00:13:00                  A27   \n",
       "1 2016-05-31 23:58:00 2016-06-01 00:25:00                  A01   \n",
       "2 2016-05-31 23:56:00 2016-06-01 00:08:00                  A40   \n",
       "3 2016-05-31 23:55:00 2016-06-01 00:06:00                  B08   \n",
       "4 2016-05-31 23:55:00 2016-06-01 00:07:00                  B08   \n",
       "\n",
       "  Departure station name Return station id Return station name  \\\n",
       "0        Mannerheimintie               A35         Apollonkatu   \n",
       "1            Kaivopuisto               A12         Unioninkatu   \n",
       "2            Lastenlehto               A06           Viiskulma   \n",
       "3  Sörnäisten metroasema               C02             Ooppera   \n",
       "4  Sörnäisten metroasema               C02             Ooppera   \n",
       "\n",
       "   Covered distance (m)  Duration (sec.)  \n",
       "0                2585.0            944.0  \n",
       "1                2703.0           1627.0  \n",
       "2                1194.0            705.0  \n",
       "3                2095.0            656.0  \n",
       "4                2111.0            715.0  "
      ]
     },
     "execution_count": 6,
     "metadata": {},
     "output_type": "execute_result"
    }
   ],
   "source": [
    "df_nonull['Departure'] = pd.to_datetime(df_nonull['Departure'])\n",
    "df_nonull['Return'] = pd.to_datetime(df_nonull['Return'])\n",
    "df_nonull.head()"
   ]
  },
  {
   "cell_type": "code",
   "execution_count": 7,
   "id": "33acb8f1-0b9d-46d9-bbec-171a963b5fee",
   "metadata": {},
   "outputs": [
    {
     "name": "stdout",
     "output_type": "stream",
     "text": [
      "Removed 900267 entries.\n"
     ]
    }
   ],
   "source": [
    "# Removing oddities\n",
    "df_reduced = df_nonull[df_nonull['Departure station name'].map(df_nonull['Departure station name'].value_counts()) > 20]\n",
    "df_reduced = df_reduced[df_reduced['Return station name'].map(df_nonull['Return station name'].value_counts()) > 20]\n",
    "df_reduced = df_reduced[df_reduced['Departure station name'] != df_reduced['Return station name']]  # Some trips start and end at the same station\n",
    "\n",
    "print('Removed ' + str(len(df_nonull) - len(df_reduced)) + ' entries.')"
   ]
  },
  {
   "cell_type": "code",
   "execution_count": 8,
   "id": "aeeb5f1e-6338-44f4-b0f6-971be3e305a7",
   "metadata": {},
   "outputs": [
    {
     "data": {
      "image/png": "[encoded data removed]",
      "text/plain": [
       "<Figure size 432x288 with 2 Axes>"
      ]
     },
     "metadata": {},
     "output_type": "display_data"
    }
   ],
   "source": [
    "most_common_departures = df_reduced['Departure station name'].value_counts()[:10]\n",
    "least_common_departures = df_reduced['Departure station name'].value_counts()[-10:]\n",
    "\n",
    "fig, ax = plt.subplots(ncols=2)\n",
    "fig.suptitle('Most and least departures')\n",
    "\n",
    "most_common_departures.plot(kind='bar', ax=ax[0])\n",
    "least_common_departures.plot(kind='bar', ax=ax[1])\n",
    "\n",
    "plt.tight_layout()\n",
    "plt.savefig(\"departures.png\", format=\"png\")\n",
    "plt.show()"
   ]
  },
  {
   "cell_type": "code",
   "execution_count": 9,
   "id": "80f0095e-6a2c-4047-9509-6c644184144d",
   "metadata": {},
   "outputs": [
    {
     "data": {
      "image/png": "[encoded data removed]",
      "text/plain": [
       "<Figure size 432x288 with 2 Axes>"
      ]
     },
     "metadata": {},
     "output_type": "display_data"
    }
   ],
   "source": [
    "most_common_returns = df_reduced['Return station name'].value_counts()[:10]\n",
    "least_common_returns = df_reduced['Return station name'].value_counts()[-10:]\n",
    "\n",
    "fig, ax = plt.subplots(ncols=2)\n",
    "fig.suptitle('Most and least returns')\n",
    "\n",
    "most_common_returns.plot(kind='bar', ax=ax[0])\n",
    "least_common_returns.plot(kind='bar', ax=ax[1])\n",
    "\n",
    "plt.tight_layout()\n",
    "plt.savefig(\"returns.png\", format=\"png\")\n",
    "plt.show()"
   ]
  },
  {
   "cell_type": "code",
   "execution_count": 11,
   "id": "d6d8162e-8a59-4133-8326-a87fb50751bf",
   "metadata": {},
   "outputs": [],
   "source": [
    "df_deps = df_reduced['Departure station name'].value_counts().reset_index()\n",
    "df_deps.columns = ['Station', 'Count']\n",
    "df_rets = df_reduced['Return station name'].value_counts().reset_index()\n",
    "df_rets.columns = ['Station', 'Count']\n",
    "\n",
    "df_combined = pd.concat([df_deps, df_rets]).groupby(['Station'], as_index=False)['Count'].sum()\n",
    "\n",
    "def geocode(station):\n",
    "    geocode_result = googlemaps.geocode(str(station))\n",
    "    if len(geocode_result) > 0:\n",
    "        return list(geocode_result[0]['geometry']['location'].values())\n",
    "    else:\n",
    "        return [np.Nan, np.Nan]\n",
    "    \n",
    "\n",
    "coordinates = df_combined['Station'].apply(lambda x: pd.Series(geocode(x), index=['Latitude', 'Longitude']))\n",
    "df_combined = pd.concat([df_combined[:], coordinates[:]], axis=\"columns\")\n",
    "\n",
    "df_combined.sort_values(by=['Count'], ascending=False).head()"
   ]
  },
  {
   "cell_type": "code",
   "execution_count": 12,
   "id": "213aa46a",
   "metadata": {},
   "outputs": [
    {
     "name": "stdout",
     "output_type": "stream",
     "text": [
      "387\n",
      "374\n",
      "370\n",
      "370\n",
      "368\n"
     ]
    }
   ],
   "source": [
    "# Drop entries that were geocoded outside of the area\n",
    "df_c2 = df_combined.copy()\n",
    "df_c2 = df_c2[df_c2['Longitude'] > 24.4]\n",
    "df_c2 = df_c2[df_c2['Longitude'] < 25.4]\n",
    "df_c2 = df_c2[df_c2['Latitude'] > 60.1]\n",
    "df_c2 = df_c2[df_c2['Latitude'] < 60.4]"
   ]
  },
  {
   "cell_type": "code",
   "execution_count": 13,
   "id": "c71cac24-17dc-4c9c-b47b-b4d9907f5e42",
   "metadata": {},
   "outputs": [
    {
     "name": "stdout",
     "output_type": "stream",
     "text": [
      "Mapping 368 values.\n"
     ]
    },
    {
     "data": {
      "application/vnd.jupyter.widget-view+json": {
       "model_id": "e1adb266459d4949a1b7f493bc7a323b",
       "version_major": 2,
       "version_minor": 0
      },
      "text/plain": [
       "Figure(layout=FigureLayout(height='420px'))"
      ]
     },
     "metadata": {},
     "output_type": "display_data"
    }
   ],
   "source": [
    "print('Mapping ' + str(len(df_c2)) + ' values.')\n",
    "\n",
    "locations = df_c2[['Latitude', 'Longitude']]\n",
    "weights = df_c2['Count']\n",
    "fig = gmaps.figure()\n",
    "heatmap = gmaps.heatmap_layer(locations, weights=weights)\n",
    "fig.add_layer(heatmap)\n",
    "fig"
   ]
  },
  {
   "cell_type": "code",
   "execution_count": 14,
   "id": "9566bc5a",
   "metadata": {},
   "outputs": [],
   "source": [
    "heatmap.max_intensity = 325000\n",
    "heatmap.point_radius = 50"
   ]
  },
  {
   "cell_type": "code",
   "execution_count": 55,
   "id": "4cd9237c",
   "metadata": {},
   "outputs": [
    {
     "data": {
      "image/png": "[encoded data removed]",
      "text/plain": [
       "<Figure size 432x288 with 1 Axes>"
      ]
     },
     "metadata": {},
     "output_type": "display_data"
    }
   ],
   "source": [
    "df_hours = df_reduced[['Departure', 'Departure station name']].copy(deep=True)\n",
    "df_hours['Departure'] = df_hours['Departure'].dt.hour\n",
    "df_hours = df_hours['Departure'].value_counts().reset_index()\n",
    "df_hours.columns = ['Hour', 'Count']\n",
    "df_hours = df_hours.sort_values(by=['Hour'], ascending=False)\n",
    "\n",
    "fix, ax = plt.subplots()\n",
    "fig.suptitle('Most and least departures')\n",
    "\n",
    "df_hours.plot(x='Hour', y='Count', kind='line', ax=ax, legend=False)\n",
    "ax.yaxis.set_major_formatter(mticker.ScalarFormatter())\n",
    "ax.yaxis.get_major_formatter().set_scientific(False)\n",
    "ax.yaxis.get_major_formatter().set_useOffset(False)\n",
    "ax.set_ylabel('Rides')\n",
    "ax.get_yaxis().set_major_formatter(\n",
    "    mticker.FuncFormatter(lambda x, p: format(int(x), ',')))\n",
    "plt.xticks(range(0, 24, 2))\n",
    "plt.xlim([0, 23])\n",
    "plt.ylim([0, max(df_hours['Count']) + 50000])\n",
    "plt.savefig(\"hours.png\", format=\"png\")\n",
    "plt.show()\n"
   ]
  },
  {
   "cell_type": "code",
   "execution_count": 18,
   "id": "3b256702",
   "metadata": {
    "pycharm": {
     "name": "#%%\n"
    }
   },
   "outputs": [
    {
     "data": {
      "text/plain": [
       "Departure station name                 Return station name                  \n",
       "Jämeräntaival                          Aalto-yliopisto (M), Korkeakouluaukio    34578\n",
       "Aalto-yliopisto (M), Korkeakouluaukio  Jämeräntaival                            34239\n",
       "Itämerentori                           Tyynenmerenkatu                          18314\n",
       "Tyynenmerenkatu                        Itämerentori                             17516\n",
       "Töölönlahdenkatu                       Baana                                    16905\n",
       "Baana                                  Töölönlahdenkatu                         16113\n",
       "Itämerentori                           Salmisaarenranta                         15790\n",
       "Gyldenintie                            Itälahdenkatu                            15446\n",
       "Itälahdenkatu                          Gyldenintie                              15309\n",
       "Gyldenintie                            Heikkilänaukio                           12953\n",
       "Salmisaarenranta                       Itämerentori                             12017\n",
       "Töölönlahdenkatu                       Itämerentori                             11959\n",
       "Kaisaniemenpuisto                      Ympyrätalo                               11532\n",
       "Heikkilänaukio                         Gyldenintie                              11432\n",
       "Itämerentori                           Töölönlahdenkatu                         11401\n",
       "Hietalahdentori                        Itämerentori                             11121\n",
       "Ympyrätalo                             Kaisaniemenpuisto                        10963\n",
       "Matinkartanontie                       Suomenlahdentie                          10261\n",
       "Itämerentori                           Hietalahdentori                          10154\n",
       "Rautatientori / itä                    Ympyrätalo                                9949\n",
       "dtype: int64"
      ]
     },
     "execution_count": 18,
     "metadata": {},
     "output_type": "execute_result"
    }
   ],
   "source": [
    "df_frequent_routes = df_reduced[['Departure station name', 'Return station name']].copy(deep=True)\n",
    "df_frequent_routes = df_frequent_routes.groupby(['Departure station name', 'Return station name']).size().sort_values(ascending=False)\n",
    "df_frequent_routes[:20]"
   ]
  },
  {
   "cell_type": "code",
   "execution_count": 42,
   "id": "39b68d48",
   "metadata": {
    "scrolled": false
   },
   "outputs": [
    {
     "name": "stdout",
     "output_type": "stream",
     "text": [
      "(60.188118, 24.8350329) (60.184312, 24.8266709)\n",
      "(60.16353089999999, 24.9145164) (60.156838, 24.9206609)\n",
      "(60.17219069999999, 24.9393078) (60.16408800000001, 24.9225657)\n",
      "(60.16353089999999, 24.9145164) (60.1647814, 24.9009608)\n",
      "(60.1583842, 24.8766659) (60.15428199999999, 24.8799224)\n",
      "(60.1583842, 24.8766659) (60.1506037, 24.8815931)\n",
      "(60.17219069999999, 24.9393078) (60.16353089999999, 24.9145164)\n",
      "(60.1731989, 24.943301) (60.180863, 24.9494)\n",
      "(60.16229550000001, 24.9295504) (60.16353089999999, 24.9145164)\n",
      "(60.156258, 24.752489) (60.16001499999999, 24.741294)\n"
     ]
    },
    {
     "data": {
      "application/vnd.jupyter.widget-view+json": {
       "model_id": "314ba7a67f894c92a26a45b10d7c1231",
       "version_major": 2,
       "version_minor": 0
      },
      "text/plain": [
       "Figure(layout=FigureLayout(height='420px'))"
      ]
     },
     "metadata": {},
     "output_type": "display_data"
    }
   ],
   "source": [
    "locations = [['Kaupunkipyörät Jämeräntaival', 'Kaupunkipyörät Aalto-yliopisto (M)'],\n",
    "            ['Kaupunkipyörät Itämerentori', 'Kaupunkipyörät Tyynenmerenkatu'],\n",
    "            ['Kaupunkipyörät Töölönlahdenkatu', 'Kaupunkipyörät Baana'],\n",
    "            ['Kaupunkipyörät Itämerentori', 'Kaupunkipyörät Salmisaarenranta'],\n",
    "            ['Kaupunkipyörät Gyldenintie', '60.154074, 24.880002'],\n",
    "            ['Kaupunkipyörät Gyldenintie', '60.150476, 24.881303'],\n",
    "            ['Kaupunkipyörät Töölönlahdenkatu', 'Kaupunkipyörät Itämerentori'],\n",
    "            ['Kaupunkipyörät Kaisaniemenpuisto', 'Kaupunkipyörät Ympyrätalo'],\n",
    "            ['60.162333, 24.929307', 'Kaupunkipyörät Itämerentori'],\n",
    "            ['Kaupunkipyörät Matinkartanontie', 'Kaupunkipyörät Suomenlahdentie']]\n",
    "        \n",
    "locations_gc = []\n",
    "\n",
    "for loc in locations:\n",
    "    for i in loc:\n",
    "        geocoded = googlemaps.geocode(i)\n",
    "        locations_gc.append((geocoded[0]['geometry']['location']['lat'], geocoded[0]['geometry']['location']['lng']))\n",
    "\n",
    "route_fig = gmaps.figure()\n",
    "\n",
    "for i in range(0, len(locations_gc), 2):\n",
    "    print(str(locations_gc[i]) + \" \" + str(locations_gc[i + 1]))\n",
    "    dir_layer = gmaps.directions_layer(locations_gc[i], locations_gc[i + 1], travel_mode='WALKING', \n",
    "                                       show_markers=False, stroke_color='#FB3640', stroke_opacity=1.0)\n",
    "    route_fig.add_layer(dir_layer)\n",
    "\n",
    "symbols = gmaps.symbol_layer(locations_gc, fill_color='#2B303A', stroke_color='#2B303A', scale=4)\n",
    "route_fig.add_layer(symbols)\n",
    "    \n",
    "route_fig"
   ]
  }
 ],
 "metadata": {
  "kernelspec": {
   "display_name": "Python 3",
   "language": "python",
   "name": "python3"
  },
  "language_info": {
   "codemirror_mode": {
    "name": "ipython",
    "version": 3
   },
   "file_extension": ".py",
   "mimetype": "text/x-python",
   "name": "python",
   "nbconvert_exporter": "python",
   "pygments_lexer": "ipython3",
   "version": "3.8.10"
  }
 },
 "nbformat": 4,
 "nbformat_minor": 5
}
